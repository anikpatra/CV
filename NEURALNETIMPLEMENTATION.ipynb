{
  "nbformat": 4,
  "nbformat_minor": 0,
  "metadata": {
    "colab": {
      "name": "NEURALNETIMPLEMENTATION.ipynb",
      "provenance": [],
      "authorship_tag": "ABX9TyPsey8FzIwhnsAW6PBPTUMX",
      "include_colab_link": true
    },
    "kernelspec": {
      "name": "python3",
      "display_name": "Python 3"
    }
  },
  "cells": [
    {
      "cell_type": "markdown",
      "metadata": {
        "id": "view-in-github",
        "colab_type": "text"
      },
      "source": [
        "<a href=\"https://colab.research.google.com/github/anikpatra/CV/blob/master/NEURALNETIMPLEMENTATION.ipynb\" target=\"_parent\"><img src=\"https://colab.research.google.com/assets/colab-badge.svg\" alt=\"Open In Colab\"/></a>"
      ]
    },
    {
      "cell_type": "code",
      "metadata": {
        "id": "yqqo1km4M-hB",
        "outputId": "b783de65-0fb6-4376-db86-c76068593d84",
        "colab": {
          "base_uri": "https://localhost:8080/",
          "height": 84
        }
      },
      "source": [
        "import numpy as np\n",
        "input_features=np.array([[0,0],[0,1],[1,0],[1,1]])\n",
        "target_output=np.array([[0,1,1,1]])\n",
        "target_output=target_output.reshape(4,1)\n",
        "weights=np.array([[0.1],[0.2]])\n",
        "bias=0.3\n",
        "lr=0.05\n",
        "def sigmoid(x):\n",
        "    return(1/(1+np.exp(-x)))\n",
        "def sigmoid_der(x):\n",
        "    return sigmoid(x)*(1-sigmoid(x))\n",
        "for epoch in range(10000):\n",
        "    inputs=input_features\n",
        "    in_o=np.dot(inputs,weights)+bias\n",
        "    out_o=sigmoid(in_o)\n",
        "    error=out_o-target_output\n",
        "    x=error.sum\n",
        "    derror_douto=error\n",
        "    douto_dino=sigmoid_der(out_o)\n",
        "    deriv=derror_douto*douto_dino\n",
        "    inputs=input_features.T\n",
        "    deriv_final=np.dot(inputs,deriv)\n",
        "    weights=weights-(lr*deriv_final)\n",
        "    for i in deriv:\n",
        "        bias-=lr*i\n",
        "test_point=[[0,0],[0,1],[1,0],[1,1]]\n",
        "test=[]\n",
        "for i in test_point:\n",
        "    single_point=np.array(i)\n",
        "    predict_output=sigmoid(np.dot(single_point,weights)+bias)\n",
        "    test.append(predict_output)\n",
        "test=np.array(test)\n",
        "print(test)"
      ],
      "execution_count": 1,
      "outputs": [
        {
          "output_type": "stream",
          "text": [
            "[[0.04112867]\n",
            " [0.97937643]\n",
            " [0.9793702 ]\n",
            " [0.99998097]]\n"
          ],
          "name": "stdout"
        }
      ]
    }
  ]
}